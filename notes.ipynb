{
 "cells": [
  {
   "cell_type": "code",
   "execution_count": null,
   "metadata": {},
   "outputs": [],
   "source": [
    "!conda create -n ptr python=3.10 -y\n",
    "!conda activate ptr\n",
    "# Modify open3d req\n",
    "!pip install -r requirements.txt"
   ]
  },
  {
   "cell_type": "code",
   "execution_count": null,
   "metadata": {},
   "outputs": [],
   "source": [
    "!pip install gdown"
   ]
  },
  {
   "cell_type": "code",
   "execution_count": null,
   "metadata": {},
   "outputs": [],
   "source": [
    "!pip install notebook"
   ]
  },
  {
   "cell_type": "code",
   "execution_count": null,
   "metadata": {},
   "outputs": [],
   "source": [
    "import gdown\n",
    "gdown.download(\n",
    "    \"https://drive.google.com/u/0/uc?id=1WzERLlbSwzGOBybzkjBrApwyVMTG00CJ\",\n",
    "    fuzzy=True,\n",
    ")\n",
    "!mkdir saved_ckpt\n",
    "!mv pointr_training_from_scratch_c55_best.pth saved_ckpt/"
   ]
  },
  {
   "cell_type": "code",
   "execution_count": null,
   "metadata": {},
   "outputs": [],
   "source": [
    "!apt update && apt install build-essential -y"
   ]
  },
  {
   "cell_type": "code",
   "execution_count": 10,
   "metadata": {},
   "outputs": [
    {
     "name": "stdout",
     "output_type": "stream",
     "text": [
      "running install\n",
      "/opt/conda/envs/ptr/lib/python3.10/site-packages/setuptools/command/install.py:34: SetuptoolsDeprecationWarning: setup.py install is deprecated. Use build and pip and other standards-based tools.\n",
      "  warnings.warn(\n",
      "/opt/conda/envs/ptr/lib/python3.10/site-packages/setuptools/command/easy_install.py:144: EasyInstallDeprecationWarning: easy_install command is deprecated. Use build and pip and other standards-based tools.\n",
      "  warnings.warn(\n",
      "running bdist_egg\n",
      "running egg_info\n",
      "writing chamfer.egg-info/PKG-INFO\n",
      "writing dependency_links to chamfer.egg-info/dependency_links.txt\n",
      "writing top-level names to chamfer.egg-info/top_level.txt\n",
      "/opt/conda/envs/ptr/lib/python3.10/site-packages/torch/utils/cpp_extension.py:476: UserWarning: Attempted to use ninja as the BuildExtension backend but we could not find ninja.. Falling back to using the slow distutils backend.\n",
      "  warnings.warn(msg.format('we could not find ninja.'))\n",
      "reading manifest file 'chamfer.egg-info/SOURCES.txt'\n",
      "writing manifest file 'chamfer.egg-info/SOURCES.txt'\n",
      "installing library code to build/bdist.linux-x86_64/egg\n",
      "running install_lib\n",
      "running build_ext\n",
      "/opt/conda/envs/ptr/lib/python3.10/site-packages/torch/utils/cpp_extension.py:388: UserWarning: The detected CUDA version (11.6) has a minor version mismatch with the version that was used to compile PyTorch (11.7). Most likely this shouldn't be a problem.\n",
      "  warnings.warn(CUDA_MISMATCH_WARN.format(cuda_str_version, torch.version.cuda))\n",
      "creating build/bdist.linux-x86_64/egg\n",
      "copying build/lib.linux-x86_64-cpython-310/chamfer.cpython-310-x86_64-linux-gnu.so -> build/bdist.linux-x86_64/egg\n",
      "creating stub loader for chamfer.cpython-310-x86_64-linux-gnu.so\n",
      "byte-compiling build/bdist.linux-x86_64/egg/chamfer.py to chamfer.cpython-310.pyc\n",
      "creating build/bdist.linux-x86_64/egg/EGG-INFO\n",
      "copying chamfer.egg-info/PKG-INFO -> build/bdist.linux-x86_64/egg/EGG-INFO\n",
      "copying chamfer.egg-info/SOURCES.txt -> build/bdist.linux-x86_64/egg/EGG-INFO\n",
      "copying chamfer.egg-info/dependency_links.txt -> build/bdist.linux-x86_64/egg/EGG-INFO\n",
      "copying chamfer.egg-info/top_level.txt -> build/bdist.linux-x86_64/egg/EGG-INFO\n",
      "writing build/bdist.linux-x86_64/egg/EGG-INFO/native_libs.txt\n",
      "zip_safe flag not set; analyzing archive contents...\n",
      "__pycache__.chamfer.cpython-310: module references __file__\n",
      "creating 'dist/chamfer-2.0.0-py3.10-linux-x86_64.egg' and adding 'build/bdist.linux-x86_64/egg' to it\n",
      "removing 'build/bdist.linux-x86_64/egg' (and everything under it)\n",
      "Processing chamfer-2.0.0-py3.10-linux-x86_64.egg\n",
      "removing '/root/.local/lib/python3.10/site-packages/chamfer-2.0.0-py3.10-linux-x86_64.egg' (and everything under it)\n",
      "creating /root/.local/lib/python3.10/site-packages/chamfer-2.0.0-py3.10-linux-x86_64.egg\n",
      "Extracting chamfer-2.0.0-py3.10-linux-x86_64.egg to /root/.local/lib/python3.10/site-packages\n",
      "chamfer 2.0.0 is already the active version in easy-install.pth\n",
      "\n",
      "Installed /root/.local/lib/python3.10/site-packages/chamfer-2.0.0-py3.10-linux-x86_64.egg\n",
      "Processing dependencies for chamfer==2.0.0\n",
      "Finished processing dependencies for chamfer==2.0.0\n"
     ]
    }
   ],
   "source": [
    "!cd extensions/chamfer_dist && python setup.py install --user"
   ]
  },
  {
   "cell_type": "code",
   "execution_count": null,
   "metadata": {},
   "outputs": [],
   "source": [
    "!sudo apt install nvidia-cuda-dev -y"
   ]
  },
  {
   "cell_type": "code",
   "execution_count": 2,
   "metadata": {},
   "outputs": [
    {
     "name": "stdout",
     "output_type": "stream",
     "text": [
      "/opt/conda/envs/ptr/lib/python3.10/site-packages/torch/cuda/__init__.py:107: UserWarning: CUDA initialization: Unexpected error from cudaGetDeviceCount(). Did you run some cuda functions before calling NumCudaDevices() that might have already set an error? Error 804: forward compatibility was attempted on non supported HW (Triggered internally at ../c10/cuda/CUDAFunctions.cpp:109.)\n",
      "  return torch._C._cuda_getDeviceCount() > 0\n",
      "No CUDA runtime is found, using CUDA_HOME='/opt/conda'\n",
      "running install\n",
      "/opt/conda/envs/ptr/lib/python3.10/site-packages/setuptools/command/install.py:34: SetuptoolsDeprecationWarning: setup.py install is deprecated. Use build and pip and other standards-based tools.\n",
      "  warnings.warn(\n",
      "/opt/conda/envs/ptr/lib/python3.10/site-packages/setuptools/command/easy_install.py:144: EasyInstallDeprecationWarning: easy_install command is deprecated. Use build and pip and other standards-based tools.\n",
      "  warnings.warn(\n",
      "running bdist_egg\n",
      "running egg_info\n",
      "writing cubic_feature_sampling.egg-info/PKG-INFO\n",
      "writing dependency_links to cubic_feature_sampling.egg-info/dependency_links.txt\n",
      "writing top-level names to cubic_feature_sampling.egg-info/top_level.txt\n",
      "/opt/conda/envs/ptr/lib/python3.10/site-packages/torch/utils/cpp_extension.py:476: UserWarning: Attempted to use ninja as the BuildExtension backend but we could not find ninja.. Falling back to using the slow distutils backend.\n",
      "  warnings.warn(msg.format('we could not find ninja.'))\n",
      "reading manifest file 'cubic_feature_sampling.egg-info/SOURCES.txt'\n",
      "writing manifest file 'cubic_feature_sampling.egg-info/SOURCES.txt'\n",
      "installing library code to build/bdist.linux-x86_64/egg\n",
      "running install_lib\n",
      "running build_ext\n",
      "/opt/conda/envs/ptr/lib/python3.10/site-packages/torch/utils/cpp_extension.py:388: UserWarning: The detected CUDA version (11.6) has a minor version mismatch with the version that was used to compile PyTorch (11.7). Most likely this shouldn't be a problem.\n",
      "  warnings.warn(CUDA_MISMATCH_WARN.format(cuda_str_version, torch.version.cuda))\n",
      "building 'cubic_feature_sampling' extension\n",
      "/opt/conda/envs/ptr/lib/python3.10/site-packages/torch/cuda/__init__.py:546: UserWarning: Can't initialize NVML\n",
      "  warnings.warn(\"Can't initialize NVML\")\n",
      "Traceback (most recent call last):\n",
      "  File \"/root/PoinTr/extensions/cubic_feature_sampling/setup.py\", line 11, in <module>\n",
      "    setup(name='cubic_feature_sampling',\n",
      "  File \"/opt/conda/envs/ptr/lib/python3.10/site-packages/setuptools/__init__.py\", line 87, in setup\n",
      "    return distutils.core.setup(**attrs)\n",
      "  File \"/opt/conda/envs/ptr/lib/python3.10/site-packages/setuptools/_distutils/core.py\", line 185, in setup\n",
      "    return run_commands(dist)\n",
      "  File \"/opt/conda/envs/ptr/lib/python3.10/site-packages/setuptools/_distutils/core.py\", line 201, in run_commands\n",
      "    dist.run_commands()\n",
      "  File \"/opt/conda/envs/ptr/lib/python3.10/site-packages/setuptools/_distutils/dist.py\", line 969, in run_commands\n",
      "    self.run_command(cmd)\n",
      "  File \"/opt/conda/envs/ptr/lib/python3.10/site-packages/setuptools/dist.py\", line 1208, in run_command\n",
      "    super().run_command(command)\n",
      "  File \"/opt/conda/envs/ptr/lib/python3.10/site-packages/setuptools/_distutils/dist.py\", line 988, in run_command\n",
      "    cmd_obj.run()\n",
      "  File \"/opt/conda/envs/ptr/lib/python3.10/site-packages/setuptools/command/install.py\", line 74, in run\n",
      "    self.do_egg_install()\n",
      "  File \"/opt/conda/envs/ptr/lib/python3.10/site-packages/setuptools/command/install.py\", line 123, in do_egg_install\n",
      "    self.run_command('bdist_egg')\n",
      "  File \"/opt/conda/envs/ptr/lib/python3.10/site-packages/setuptools/_distutils/cmd.py\", line 318, in run_command\n",
      "    self.distribution.run_command(command)\n",
      "  File \"/opt/conda/envs/ptr/lib/python3.10/site-packages/setuptools/dist.py\", line 1208, in run_command\n",
      "    super().run_command(command)\n",
      "  File \"/opt/conda/envs/ptr/lib/python3.10/site-packages/setuptools/_distutils/dist.py\", line 988, in run_command\n",
      "    cmd_obj.run()\n",
      "  File \"/opt/conda/envs/ptr/lib/python3.10/site-packages/setuptools/command/bdist_egg.py\", line 165, in run\n",
      "    cmd = self.call_command('install_lib', warn_dir=0)\n",
      "  File \"/opt/conda/envs/ptr/lib/python3.10/site-packages/setuptools/command/bdist_egg.py\", line 151, in call_command\n",
      "    self.run_command(cmdname)\n",
      "  File \"/opt/conda/envs/ptr/lib/python3.10/site-packages/setuptools/_distutils/cmd.py\", line 318, in run_command\n",
      "    self.distribution.run_command(command)\n",
      "  File \"/opt/conda/envs/ptr/lib/python3.10/site-packages/setuptools/dist.py\", line 1208, in run_command\n",
      "    super().run_command(command)\n",
      "  File \"/opt/conda/envs/ptr/lib/python3.10/site-packages/setuptools/_distutils/dist.py\", line 988, in run_command\n",
      "    cmd_obj.run()\n",
      "  File \"/opt/conda/envs/ptr/lib/python3.10/site-packages/setuptools/command/install_lib.py\", line 11, in run\n",
      "    self.build()\n",
      "  File \"/opt/conda/envs/ptr/lib/python3.10/site-packages/setuptools/_distutils/command/install_lib.py\", line 112, in build\n",
      "    self.run_command('build_ext')\n",
      "  File \"/opt/conda/envs/ptr/lib/python3.10/site-packages/setuptools/_distutils/cmd.py\", line 318, in run_command\n",
      "    self.distribution.run_command(command)\n",
      "  File \"/opt/conda/envs/ptr/lib/python3.10/site-packages/setuptools/dist.py\", line 1208, in run_command\n",
      "    super().run_command(command)\n",
      "  File \"/opt/conda/envs/ptr/lib/python3.10/site-packages/setuptools/_distutils/dist.py\", line 988, in run_command\n",
      "    cmd_obj.run()\n",
      "  File \"/opt/conda/envs/ptr/lib/python3.10/site-packages/setuptools/command/build_ext.py\", line 84, in run\n",
      "    _build_ext.run(self)\n",
      "  File \"/opt/conda/envs/ptr/lib/python3.10/site-packages/setuptools/_distutils/command/build_ext.py\", line 346, in run\n",
      "    self.build_extensions()\n",
      "  File \"/opt/conda/envs/ptr/lib/python3.10/site-packages/torch/utils/cpp_extension.py\", line 843, in build_extensions\n",
      "    build_ext.build_extensions(self)\n",
      "  File \"/opt/conda/envs/ptr/lib/python3.10/site-packages/setuptools/_distutils/command/build_ext.py\", line 468, in build_extensions\n",
      "    self._build_extensions_serial()\n",
      "  File \"/opt/conda/envs/ptr/lib/python3.10/site-packages/setuptools/_distutils/command/build_ext.py\", line 494, in _build_extensions_serial\n",
      "    self.build_extension(ext)\n",
      "  File \"/opt/conda/envs/ptr/lib/python3.10/site-packages/setuptools/command/build_ext.py\", line 246, in build_extension\n",
      "    _build_ext.build_extension(self, ext)\n",
      "  File \"/opt/conda/envs/ptr/lib/python3.10/site-packages/setuptools/_distutils/command/build_ext.py\", line 549, in build_extension\n",
      "    objects = self.compiler.compile(\n",
      "  File \"/opt/conda/envs/ptr/lib/python3.10/site-packages/setuptools/_distutils/ccompiler.py\", line 599, in compile\n",
      "    self._compile(obj, src, ext, cc_args, extra_postargs, pp_opts)\n",
      "  File \"/opt/conda/envs/ptr/lib/python3.10/site-packages/torch/utils/cpp_extension.py\", line 581, in unix_wrap_single_compile\n",
      "    cflags = unix_cuda_flags(cflags)\n",
      "  File \"/opt/conda/envs/ptr/lib/python3.10/site-packages/torch/utils/cpp_extension.py\", line 548, in unix_cuda_flags\n",
      "    cflags + _get_cuda_arch_flags(cflags))\n",
      "  File \"/opt/conda/envs/ptr/lib/python3.10/site-packages/torch/utils/cpp_extension.py\", line 1773, in _get_cuda_arch_flags\n",
      "    arch_list[-1] += '+PTX'\n",
      "IndexError: list index out of range\n"
     ]
    }
   ],
   "source": [
    "# # NOTE: For GRNet \n",
    "\n",
    "# # Cubic Feature Sampling\n",
    "!cd extensions/cubic_feature_sampling && python setup.py install --user\n",
    "\n",
    "# # Gridding & Gridding Reverse\n",
    "# cd $HOME/extensions/gridding\n",
    "# python setup.py install --user\n",
    "\n",
    "# # Gridding Loss\n",
    "# cd $HOME/extensions/gridding_loss\n",
    "# python setup.py install --user\n",
    "\n"
   ]
  },
  {
   "cell_type": "code",
   "execution_count": null,
   "metadata": {},
   "outputs": [],
   "source": [
    "!sudo apt-get install zip unzip -y"
   ]
  },
  {
   "cell_type": "code",
   "execution_count": null,
   "metadata": {},
   "outputs": [],
   "source": [
    "gdown.download(\n",
    "    \"https://drive.google.com/u/0/uc?id=1jUB5yD7DP97-EqqU2A9mmr61JpNwZBVK\",\n",
    "    fuzzy=True\n",
    ")"
   ]
  },
  {
   "cell_type": "code",
   "execution_count": null,
   "metadata": {},
   "outputs": [],
   "source": [
    "!unzip ShapeNet55.zip > /dev/null\n",
    "# !mv ShapeNet55 ShapeNet55-34"
   ]
  },
  {
   "cell_type": "code",
   "execution_count": null,
   "metadata": {},
   "outputs": [],
   "source": [
    "!mv ShapeNet55 ShapeNet55-34"
   ]
  },
  {
   "cell_type": "code",
   "execution_count": null,
   "metadata": {},
   "outputs": [],
   "source": [
    "!apt-get update && apt-get install ffmpeg libsm6 libxext6  -y"
   ]
  },
  {
   "cell_type": "code",
   "execution_count": 12,
   "metadata": {},
   "outputs": [],
   "source": [
    "!mkdir -p inference_result"
   ]
  },
  {
   "cell_type": "code",
   "execution_count": 13,
   "metadata": {},
   "outputs": [
    {
     "name": "stdout",
     "output_type": "stream",
     "text": [
      "Traceback (most recent call last):\n",
      "  File \"/root/PoinTr/tools/inference.py\", line 13, in <module>\n",
      "    from tools import builder\n",
      "  File \"/root/PoinTr/tools/../tools/__init__.py\", line 1, in <module>\n",
      "    from .runner import run_net\n",
      "  File \"/root/PoinTr/tools/../tools/runner.py\", line 5, in <module>\n",
      "    from tools import builder\n",
      "  File \"/root/PoinTr/tools/../tools/builder.py\", line 9, in <module>\n",
      "    from models import build_model_from_cfg\n",
      "  File \"/root/PoinTr/tools/../models/__init__.py\", line 3, in <module>\n",
      "    import models.PoinTr\n",
      "  File \"/root/PoinTr/tools/../models/PoinTr.py\", line 4, in <module>\n",
      "    from pointnet2_ops import pointnet2_utils\n",
      "ModuleNotFoundError: No module named 'pointnet2_ops'\n"
     ]
    }
   ],
   "source": [
    "!python tools/inference.py \\\n",
    "    cfgs/ShapeNet55_models/PoinTr.yaml pointr_training_from_scratch_c55_best.pth \\\n",
    "    -pc_root demo/ \\\n",
    "    --save_vis_img \\\n",
    "    --out_pc_root inference_result\n",
    "\n",
    "\n",
    "# --pc ShapeNet55-34/shapenet_pc/02691156-10155655850468db78d106ce0a280f87.npy \\\n",
    "# --pc_root <path> or --pc <file>] \\\n",
    "\n",
    "\n",
    "# !python tools/inference.py \\\n",
    "#     cfgs/PCN_models/AdaPoinTr.yaml ckpts/AdaPoinTr_PCN.pth \\\n",
    "#     --pc_root demo/ \\ \n",
    "#     --save_vis_img  \\\n",
    "#     --out_pc_root inference_result/ \\\n"
   ]
  }
 ],
 "metadata": {
  "kernelspec": {
   "display_name": "ptr",
   "language": "python",
   "name": "python3"
  },
  "language_info": {
   "codemirror_mode": {
    "name": "ipython",
    "version": 3
   },
   "file_extension": ".py",
   "mimetype": "text/x-python",
   "name": "python",
   "nbconvert_exporter": "python",
   "pygments_lexer": "ipython3",
   "version": "3.10.10"
  },
  "orig_nbformat": 4
 },
 "nbformat": 4,
 "nbformat_minor": 2
}
